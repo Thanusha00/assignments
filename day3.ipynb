{
 "cells": [
  {
   "cell_type": "code",
   "execution_count": 1,
   "metadata": {},
   "outputs": [
    {
     "name": "stdout",
     "output_type": "stream",
     "text": [
      "90.0\n",
      "GRADE : A\n"
     ]
    }
   ],
   "source": [
    "'''''''''Write a Python program that takes a student's marks in three subjects as input.\n",
    "If the average is greater than or equal to 90, print \"Grade: A\".\n",
    "If the average is between 80 and 89, print \"Grade: B\".\n",
    "If the average is between 70 and 79, print \"Grade: C\".\n",
    "Otherwise, print \"Grade: Fail\".'''\n",
    "\n",
    "\n",
    "python=int(input(\"enter the marks of python: \"))\n",
    "java=int(input(\"enter the marks of java: \"))\n",
    "dbms=int(input(\"enter the marks of dbms: \"))\n",
    "average = (python+java+dbms)/3\n",
    "print (average)\n",
    "if (average >= 90):\n",
    "    print(\"GRADE : A\")\n",
    "elif (80 <= average < 89):\n",
    "    print(\"GRADE : B\")\n",
    "elif (70 <= average < 79):\n",
    "    print(\"GRADE : C\")\n",
    "else:\n",
    "    print(\"GRADE : FAIL\")"
   ]
  },
  {
   "cell_type": "code",
   "execution_count": null,
   "metadata": {},
   "outputs": [],
   "source": []
  }
 ],
 "metadata": {
  "kernelspec": {
   "display_name": "Python 3",
   "language": "python",
   "name": "python3"
  },
  "language_info": {
   "codemirror_mode": {
    "name": "ipython",
    "version": 3
   },
   "file_extension": ".py",
   "mimetype": "text/x-python",
   "name": "python",
   "nbconvert_exporter": "python",
   "pygments_lexer": "ipython3",
   "version": "3.11.0"
  }
 },
 "nbformat": 4,
 "nbformat_minor": 2
}
